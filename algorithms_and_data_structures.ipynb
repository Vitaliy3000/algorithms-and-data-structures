{
 "cells": [
  {
   "cell_type": "code",
   "execution_count": 52,
   "metadata": {},
   "outputs": [],
   "source": [
    "from abc import ABC, abstractmethod"
   ]
  },
  {
   "cell_type": "markdown",
   "metadata": {},
   "source": [
    "# Data structures"
   ]
  },
  {
   "cell_type": "markdown",
   "metadata": {},
   "source": [
    "## BinarySearchTree"
   ]
  },
  {
   "cell_type": "code",
   "execution_count": null,
   "metadata": {},
   "outputs": [],
   "source": [
    "class BinarySearchTree:\n",
    "\n",
    "    class Node:\n",
    "        def __init__(self, parent, left, right, key):\n",
    "            self.parent = parent\n",
    "            self.left = left\n",
    "            self.right = right\n",
    "            self.key = key\n",
    "\n",
    "        def __bool__(self):\n",
    "            return self.key is not None\n",
    "\n",
    "    def __init__(self):\n",
    "        self.root = self.Node(parent=None, left=None, right=None, key=None)\n",
    "\n",
    "    def insert(self, key):\n",
    "        z = self.Node(parent=None, left=None,\n",
    "                      right=None, key=key)\n",
    "        y = None\n",
    "        x = self.root\n",
    "        while x:\n",
    "            y = x\n",
    "            x = x.left if z.key < x.key else x.right\n",
    "\n",
    "        z.parent = y\n",
    "        if not y:\n",
    "            self.root = z\n",
    "        elif z.key < y.key:\n",
    "            y.left = z\n",
    "        else:\n",
    "            y.right = z\n",
    "\n",
    "    def sort(self, x=None, array=None):\n",
    "        if array is None:\n",
    "            array = []\n",
    "            x = x or self.root\n",
    "\n",
    "        if x:\n",
    "            array = self.sort(x.left, array)\n",
    "            array.append(x.key)\n",
    "            array = self.sort(x.right, array)\n",
    "        return array\n",
    "\n",
    "    def search(self, key, x=None):\n",
    "        if x is None:\n",
    "            x = self.root\n",
    "        while x and key != x.key:\n",
    "            x = x.left if key < x.key else x.right\n",
    "        return x\n",
    "\n",
    "    def tree_min(self, x=None):\n",
    "        if x is None:\n",
    "            x = self.root\n",
    "        while x.left:\n",
    "            x = x.left\n",
    "        return x\n",
    "\n",
    "    def tree_max(self, x=None):\n",
    "        if x is None:\n",
    "            x = self.root\n",
    "        while x.right:\n",
    "            x = x.right\n",
    "        return x\n",
    "\n",
    "    def next_element(self, x=None):\n",
    "        if x is None:\n",
    "            x = self.root\n",
    "        if x.right:\n",
    "            return self.tree_min(x.right)\n",
    "        y = x.parent\n",
    "        while not y and x == y.right:\n",
    "            x, y = y, y.parent\n",
    "        return y\n",
    "\n",
    "    def transplant(self, u, v):\n",
    "        if not u.parent:\n",
    "            self.root = v\n",
    "        elif u == u.parent.left:\n",
    "            u.parent.left = v\n",
    "        else:\n",
    "            u.parent.right = v\n",
    "        if v:\n",
    "            v.parent = u.parent\n",
    "\n",
    "    def delete(self, z):\n",
    "        if not z.left:\n",
    "            self.transplant(z, z.right)\n",
    "        elif not z.right:\n",
    "            self.transplant(z, z.left)\n",
    "        else:\n",
    "            y = self.tree_min(z.right)\n",
    "            if y.parent != z:\n",
    "                self.transplant(y, y.right)\n",
    "                y.right = z.right\n",
    "                y.right.parent = y\n",
    "            self.transplant(z, y)\n",
    "            y.left = z.left\n",
    "            y.left.parent = y"
   ]
  },
  {
   "cell_type": "markdown",
   "metadata": {},
   "source": [
    "## Heap"
   ]
  },
  {
   "cell_type": "code",
   "execution_count": null,
   "metadata": {},
   "outputs": [],
   "source": [
    "class Heap:\n",
    "    def __init__(self):\n",
    "        self._values = []\n",
    "        self.size = 0\n",
    "\n",
    "    def insert(self, x):\n",
    "        self._values.append(x)\n",
    "        self.size += 1\n",
    "        self.sift_up(self.size-1)\n",
    "\n",
    "    def _parent(self, i):\n",
    "        return self._values[(i-1)//2]\n",
    "\n",
    "    def _left(self, i):\n",
    "        return self._values[2*i+1]\n",
    "\n",
    "    def _right(self, i):\n",
    "        return self._values[2*i+2]\n",
    "\n",
    "    def _node(self, i):\n",
    "        return self._values[i]\n",
    "\n",
    "    def sift_up(self, i):\n",
    "        while i != 0 and self._node(i) < self._parent(i):\n",
    "            tmp = self._values[i]\n",
    "            self._values[i] = self._values[(i-1)//2]\n",
    "            self._values[(i-1)//2] = tmp\n",
    "\n",
    "    def is_empty(self):\n",
    "        return self.size == 0\n",
    "\n",
    "    def extract_min(self):\n",
    "        if self.is_empty():\n",
    "            raise IndexError('Heap is empty')\n",
    "        x = self._node(0)\n",
    "        self._values[0] = self._values[-1]\n",
    "        self._values.pop()\n",
    "        self.size -= 1\n",
    "        self.sift_down(0)\n",
    "        return x\n",
    "\n",
    "    def sift_down(self, i):\n",
    "        while 2*i+1 < self.size:\n",
    "            j = i\n",
    "            if self._left(i) < self._node(j):\n",
    "                j = 2*i+1\n",
    "            if 2*i+2 < self.size and self._right(i) < self._node(j):\n",
    "                j = 2*i+2\n",
    "            if i == j:\n",
    "                break\n",
    "            self._values[i], self._values[j] = (self._values[j],\n",
    "                                                self._values[i])\n",
    "            i = j"
   ]
  },
  {
   "cell_type": "markdown",
   "metadata": {},
   "source": [
    "## Linked list"
   ]
  },
  {
   "cell_type": "code",
   "execution_count": null,
   "metadata": {},
   "outputs": [],
   "source": [
    "class LinkedList:\n",
    "\n",
    "    class Node:\n",
    "        def __init__(self, next, key):\n",
    "            self.next = next\n",
    "            self.key = key\n",
    "\n",
    "        def __bool__(self):\n",
    "            return self.next is not None\n",
    "\n",
    "    def __init__(self):\n",
    "        self._begin = self.Node(next=None, key=None)\n",
    "\n",
    "    def _is_end_node(self, node):\n",
    "        return node.next is None\n",
    "\n",
    "    def is_empty(self):\n",
    "        return self._is_end_node(self._begin)\n",
    "\n",
    "    def _get_node(self, index=0):\n",
    "        node = self._begin\n",
    "        for i in range(index):\n",
    "            if self._is_end_node(node):\n",
    "                raise IndexError('LinkedList have not index')\n",
    "            node = node.next\n",
    "        return node\n",
    "\n",
    "    def insert(self, key, index=0):\n",
    "        last_node = self._get_node(index)\n",
    "        new_node = self.Node(next=last_node.next, key=key)\n",
    "        last_node.next = new_node\n",
    "\n",
    "    def pop(self, index=0):\n",
    "        if self.is_empty():\n",
    "            raise IndexError('LinkedList is empty')\n",
    "        last_node = self._get_node(index)\n",
    "        delete_node = last_node.next\n",
    "        last_node.next = delete_node.next\n",
    "        return delete_node\n",
    "\n",
    "    def __iter__(self):\n",
    "        node = self._begin\n",
    "        while not self._is_end_node(node):\n",
    "            node = node.next\n",
    "            yield node\n",
    "\n",
    "    def __str__(self):\n",
    "        array = [node.key for node in self]\n",
    "        return 'begin --> ' + ' --> '.join(array) + ' --> end'"
   ]
  },
  {
   "cell_type": "markdown",
   "metadata": {},
   "source": [
    "## DoublyLinkedList"
   ]
  },
  {
   "cell_type": "code",
   "execution_count": 48,
   "metadata": {},
   "outputs": [
    {
     "ename": "NameError",
     "evalue": "name 'LinkedList' is not defined",
     "output_type": "error",
     "traceback": [
      "\u001b[0;31m---------------------------------------------------------------------------\u001b[0m",
      "\u001b[0;31mNameError\u001b[0m                                 Traceback (most recent call last)",
      "\u001b[0;32m/var/folders/sw/4w8p5vvs6mgf_632hj7k_bf80000gp/T/ipykernel_51312/1256344021.py\u001b[0m in \u001b[0;36m<module>\u001b[0;34m\u001b[0m\n\u001b[0;32m----> 1\u001b[0;31m \u001b[0;32mclass\u001b[0m \u001b[0mDoublyLinkedList\u001b[0m\u001b[0;34m(\u001b[0m\u001b[0mLinkedList\u001b[0m\u001b[0;34m)\u001b[0m\u001b[0;34m:\u001b[0m\u001b[0;34m\u001b[0m\u001b[0;34m\u001b[0m\u001b[0m\n\u001b[0m\u001b[1;32m      2\u001b[0m \u001b[0;34m\u001b[0m\u001b[0m\n\u001b[1;32m      3\u001b[0m     \u001b[0;32mclass\u001b[0m \u001b[0mDoubleNode\u001b[0m\u001b[0;34m:\u001b[0m\u001b[0;34m\u001b[0m\u001b[0;34m\u001b[0m\u001b[0m\n\u001b[1;32m      4\u001b[0m         \u001b[0;32mdef\u001b[0m \u001b[0m__init__\u001b[0m\u001b[0;34m(\u001b[0m\u001b[0mself\u001b[0m\u001b[0;34m,\u001b[0m \u001b[0mprev\u001b[0m\u001b[0;34m,\u001b[0m \u001b[0mnext\u001b[0m\u001b[0;34m,\u001b[0m \u001b[0mkey\u001b[0m\u001b[0;34m)\u001b[0m\u001b[0;34m:\u001b[0m\u001b[0;34m\u001b[0m\u001b[0;34m\u001b[0m\u001b[0m\n\u001b[1;32m      5\u001b[0m             \u001b[0mself\u001b[0m\u001b[0;34m.\u001b[0m\u001b[0mprev\u001b[0m \u001b[0;34m=\u001b[0m \u001b[0mprev\u001b[0m\u001b[0;34m\u001b[0m\u001b[0;34m\u001b[0m\u001b[0m\n",
      "\u001b[0;31mNameError\u001b[0m: name 'LinkedList' is not defined"
     ]
    }
   ],
   "source": [
    "class DoublyLinkedList(LinkedList):\n",
    "\n",
    "    class DoubleNode:\n",
    "        def __init__(self, prev, next, key):\n",
    "            self.prev = prev\n",
    "            self.next = next\n",
    "            self.key = key\n",
    "\n",
    "        def __bool__(self):\n",
    "            return self.next is not None\n",
    "\n",
    "    def __init__(self):\n",
    "        self._begin = self.DoubleNode(prev=None, next=None, key=None)\n",
    "        self._end = self.DoubleNode(prev=None, next=None, key=None)\n",
    "        self._begin.next = self._end\n",
    "        self._end.prev = self._begin\n",
    "\n",
    "    def is_empty(self):\n",
    "        return self._is_end_node(self._begin.next)\n",
    "\n",
    "    def _is_start_node(self, node):\n",
    "        return node.prev is None\n",
    "\n",
    "    def insert(self, key, index=0):\n",
    "        last_node = self._get_node(index)\n",
    "        new_node = self.DoubleNode(prev=last_node.next.prev,\n",
    "                                   next=last_node.next, key=key)\n",
    "        last_node.next.prev = new_node\n",
    "        last_node.next = new_node\n",
    "\n",
    "    def pop(self, index=0):\n",
    "        if self.is_empty():\n",
    "            raise IndexError('DoublyLinkedList is empty')\n",
    "\n",
    "        last_node = self._get_node(index)\n",
    "        delete_node = last_node.next\n",
    "        last_node.next = delete_node.next\n",
    "        last_node.next.prev = delete_node.prev\n",
    "        return delete_node\n",
    "\n",
    "    def __str__(self):\n",
    "        array = [node.key for node in self]\n",
    "        return 'begin <--> ' + ' <--> '.join(array) + ' <--> end'"
   ]
  },
  {
   "cell_type": "markdown",
   "metadata": {},
   "source": [
    "## Hash table"
   ]
  },
  {
   "cell_type": "code",
   "execution_count": null,
   "metadata": {},
   "outputs": [],
   "source": []
  },
  {
   "cell_type": "markdown",
   "metadata": {},
   "source": [
    "## Stack"
   ]
  },
  {
   "cell_type": "code",
   "execution_count": null,
   "metadata": {},
   "outputs": [],
   "source": [
    "class Stack:\n",
    "\n",
    "    def __init__(self, max_size=100):\n",
    "        self._array = [None]*max_size\n",
    "        self._top = 0\n",
    "        self.max_size = max_size\n",
    "\n",
    "    def push(self, x):\n",
    "        if self.is_full():\n",
    "            raise MemoryError('Stack is full')\n",
    "        self._array[self._top] = x\n",
    "        self._top += 1\n",
    "\n",
    "    def pop(self):\n",
    "        if self.is_empty():\n",
    "            raise IndexError('Stack is empty')\n",
    "        self._top -= 1\n",
    "        x = self._array[self._top]\n",
    "        return x\n",
    "\n",
    "    def is_empty(self):\n",
    "        return self._top == 0\n",
    "\n",
    "    def is_full(self):\n",
    "        return self._top == self.max_size"
   ]
  },
  {
   "cell_type": "markdown",
   "metadata": {},
   "source": [
    "## Queue"
   ]
  },
  {
   "cell_type": "code",
   "execution_count": null,
   "metadata": {},
   "outputs": [],
   "source": [
    "class Queue:\n",
    "\n",
    "    def __init__(self, max_size=100):\n",
    "        self._queue = [None]*max_size\n",
    "        self._head = 0\n",
    "        self._tail = 0\n",
    "        self._len = 0\n",
    "        self.max_size = max_size\n",
    "\n",
    "    def _is_end_array(self, index):\n",
    "        return index == len(self._queue)-1\n",
    "\n",
    "    def _next_index(self, index):\n",
    "        if self._is_end_array(index):\n",
    "            return 0\n",
    "        else:\n",
    "            return index + 1\n",
    "\n",
    "    def enqueue(self, x):\n",
    "        if self.is_full():\n",
    "            raise MemoryError('Queue is full')\n",
    "        self._len += 1\n",
    "        self._queue[self._tail] = x\n",
    "        self._tail = self._next_index(self._tail)\n",
    "\n",
    "    def dequeue(self):\n",
    "        if self.is_empty():\n",
    "            raise IndexError('Queue is empty')\n",
    "        x = self._queue[self._head]\n",
    "        self._head = self._next_index(self._head)\n",
    "        self._len -= 1\n",
    "        return x\n",
    "\n",
    "    def is_empty(self):\n",
    "        return self._len == 0\n",
    "\n",
    "    def is_full(self):\n",
    "        return self._len == self.max_size"
   ]
  },
  {
   "cell_type": "markdown",
   "metadata": {},
   "source": [
    "## Dequeue"
   ]
  },
  {
   "cell_type": "code",
   "execution_count": 47,
   "metadata": {},
   "outputs": [
    {
     "ename": "NameError",
     "evalue": "name 'Queue' is not defined",
     "output_type": "error",
     "traceback": [
      "\u001b[0;31m---------------------------------------------------------------------------\u001b[0m",
      "\u001b[0;31mNameError\u001b[0m                                 Traceback (most recent call last)",
      "\u001b[0;32m/var/folders/sw/4w8p5vvs6mgf_632hj7k_bf80000gp/T/ipykernel_51312/2271177887.py\u001b[0m in \u001b[0;36m<module>\u001b[0;34m\u001b[0m\n\u001b[0;32m----> 1\u001b[0;31m \u001b[0;32mclass\u001b[0m \u001b[0mDeque\u001b[0m\u001b[0;34m(\u001b[0m\u001b[0mQueue\u001b[0m\u001b[0;34m)\u001b[0m\u001b[0;34m:\u001b[0m\u001b[0;34m\u001b[0m\u001b[0;34m\u001b[0m\u001b[0m\n\u001b[0m\u001b[1;32m      2\u001b[0m \u001b[0;34m\u001b[0m\u001b[0m\n\u001b[1;32m      3\u001b[0m     \u001b[0;32mdef\u001b[0m \u001b[0m_is_start_array\u001b[0m\u001b[0;34m(\u001b[0m\u001b[0mself\u001b[0m\u001b[0;34m,\u001b[0m \u001b[0mindex\u001b[0m\u001b[0;34m)\u001b[0m\u001b[0;34m:\u001b[0m\u001b[0;34m\u001b[0m\u001b[0;34m\u001b[0m\u001b[0m\n\u001b[1;32m      4\u001b[0m         \u001b[0;32mreturn\u001b[0m \u001b[0mindex\u001b[0m \u001b[0;34m==\u001b[0m \u001b[0;36m0\u001b[0m\u001b[0;34m\u001b[0m\u001b[0;34m\u001b[0m\u001b[0m\n\u001b[1;32m      5\u001b[0m \u001b[0;34m\u001b[0m\u001b[0m\n",
      "\u001b[0;31mNameError\u001b[0m: name 'Queue' is not defined"
     ]
    }
   ],
   "source": [
    "class Deque(Queue):\n",
    "\n",
    "    def _is_start_array(self, index):\n",
    "        return index == 0\n",
    "\n",
    "    def _prev_index(self, index):\n",
    "        if self._is_start_array(index):\n",
    "            return len(self._queue) - 1\n",
    "        else:\n",
    "            return index - 1\n",
    "\n",
    "    def enqueue_tail(self, x):\n",
    "        if self.is_full():\n",
    "            raise MemoryError('Deque is full')\n",
    "        self._len += 1\n",
    "        self._queue[self._tail] = x\n",
    "        self._tail = self._next_index(self._tail)\n",
    "\n",
    "    def dequeue_head(self):\n",
    "        if self.is_empty():\n",
    "            raise IndexError('Deque is empty')\n",
    "        x = self._queue[self._head]\n",
    "        self._head = self._next_index(self._head)\n",
    "        self._len -= 1\n",
    "        return x\n",
    "\n",
    "    def enqueue_head(self, x):\n",
    "        if self.is_full():\n",
    "            raise MemoryError('Deque is full')\n",
    "        self._len += 1\n",
    "        self._head = self._prev_index(self._head)\n",
    "        self._queue[self._head] = x\n",
    "\n",
    "    def dequeue_tail(self):\n",
    "        if self.is_empty():\n",
    "            raise IndexError('Deque is empty')\n",
    "        self._tail = self._prev_index(self._tail)\n",
    "        self._len -= 1\n",
    "        return self._queue[self._tail]"
   ]
  },
  {
   "cell_type": "code",
   "execution_count": null,
   "metadata": {},
   "outputs": [],
   "source": []
  },
  {
   "cell_type": "markdown",
   "metadata": {},
   "source": [
    "## Graph"
   ]
  },
  {
   "cell_type": "code",
   "execution_count": 53,
   "metadata": {},
   "outputs": [],
   "source": [
    "class Graph(ABC):\n",
    "    pass"
   ]
  },
  {
   "cell_type": "markdown",
   "metadata": {},
   "source": [
    "### Graph list edges"
   ]
  },
  {
   "cell_type": "code",
   "execution_count": 56,
   "metadata": {},
   "outputs": [],
   "source": [
    "class GraphListEdges(Graph):\n",
    "    def __init__(self, edges):\n",
    "        self.edges = edges\n",
    "        self.vertexes = {k for (i, j) in edges for k in (i, j)}"
   ]
  },
  {
   "cell_type": "markdown",
   "metadata": {},
   "source": [
    "### Graph incidence matrix"
   ]
  },
  {
   "cell_type": "code",
   "execution_count": null,
   "metadata": {},
   "outputs": [],
   "source": [
    "class GraphIncidenceMatrix(Graph):\n",
    "    def __init__(self, matrix):\n",
    "        self.matrix = matrix"
   ]
  },
  {
   "cell_type": "markdown",
   "metadata": {},
   "source": [
    "# Algorithms"
   ]
  },
  {
   "cell_type": "markdown",
   "metadata": {},
   "source": [
    "## Sorts"
   ]
  },
  {
   "cell_type": "markdown",
   "metadata": {},
   "source": [
    "| Name          |Best               | Average          | Worst                 | Space                |Stable|\n",
    "| -------------:|:-----------------:|:----------------:|:---------------------:|:--------------------:|:----:|\n",
    "| choice sort   | $\\Omega(n^2)$     |$\\Theta(n^2)$     |$\\mathcal{O}(n^2)$     |$\\mathcal{O}(1)$      |No    |\n",
    "| insertion sort| $\\Omega(n)$       |$\\Theta(n^2)$     |$\\mathcal{O}(n^2)$     |$\\mathcal{O}(1)$      |Yes   |\n",
    "| bubble sort   | $\\Omega(n)$       |$\\Theta(n^2)$     |$\\mathcal{O}(n^2)$     |$\\mathcal{O}(1)$      |Yes   |\n",
    "| count sort    | $\\Omega(n+k)$     |$\\Theta(n+k)$     |$\\mathcal{O}(n+k)$     |$\\mathcal{O}(k)$      |---   |\n",
    "| merge sort    | $\\Omega(n\\log{n})$|$\\Theta(n\\log{n})$|$\\mathcal{O}(n\\log{n})$|$\\mathcal{O}(n)$      |Yes   |\n",
    "| quick sort    | $\\Omega(n\\log{n})$|$\\Theta(n\\log{n})$|$\\mathcal{O}(n^2)$     |$\\mathcal{O}(1)$|No    |\n",
    "| heap sort     | $\\Omega(n\\log{n})$|$\\Theta(n\\log{n})$|$\\mathcal{O}(n\\log{n})$|$\\mathcal{O}(1)$      |No    |"
   ]
  },
  {
   "cell_type": "markdown",
   "metadata": {},
   "source": [
    "### Quadratic sort"
   ]
  },
  {
   "cell_type": "markdown",
   "metadata": {},
   "source": [
    "#### choice (selection) sort\n",
    "\n",
    "<img src=\"images/choice-sort.gif\">"
   ]
  },
  {
   "cell_type": "code",
   "execution_count": 2,
   "metadata": {},
   "outputs": [],
   "source": [
    "def choice_sort(array):\n",
    "    for sort_index in range(len(array)):\n",
    "        for i in range(sort_index+1, len(array)):\n",
    "            if array[i] < array[sort_index]:\n",
    "                array[i], array[sort_index] = array[sort_index], array[i]"
   ]
  },
  {
   "cell_type": "markdown",
   "metadata": {},
   "source": [
    "#### insertion sort\n",
    "\n",
    "<img src=\"images/insert-sort.gif\">"
   ]
  },
  {
   "cell_type": "code",
   "execution_count": 3,
   "metadata": {},
   "outputs": [],
   "source": [
    "def insert_sort(array):\n",
    "    for sort_index in range(1, len(array)):\n",
    "        i = sort_index\n",
    "        while i > 0 and array[i-1] > array[i]:\n",
    "            array[i-1], array[i] = array[i], array[i-1]\n",
    "            i -= 1"
   ]
  },
  {
   "cell_type": "markdown",
   "metadata": {},
   "source": [
    "#### bubble sort\n",
    "\n",
    "<img src=\"images/bubble-sort.gif\">"
   ]
  },
  {
   "cell_type": "code",
   "execution_count": 4,
   "metadata": {},
   "outputs": [],
   "source": [
    "def bubble_sort(array):\n",
    "    for sort_index in range(len(array)):\n",
    "        for i in range(len(array) - sort_index - 1):\n",
    "            if array[i] > array[i+1]:\n",
    "                array[i], array[i+1] = array[i+1], array[i]"
   ]
  },
  {
   "cell_type": "markdown",
   "metadata": {},
   "source": [
    "### Fast sort"
   ]
  },
  {
   "cell_type": "markdown",
   "metadata": {},
   "source": [
    "#### count sort"
   ]
  },
  {
   "cell_type": "code",
   "execution_count": 5,
   "metadata": {},
   "outputs": [],
   "source": [
    "def count_sort(array):\n",
    "    if len(array) == 0:\n",
    "        return\n",
    "\n",
    "    counter = {}\n",
    "    min_value = max_value = array[0]\n",
    "\n",
    "    for x in array:\n",
    "        counter[x] = counter.get(x, 0) + 1\n",
    "        min_value = x if x < min_value else min_value\n",
    "        max_value = x if x > max_value else max_value\n",
    "\n",
    "    ind = 0\n",
    "    for key in range(min_value, max_value+1):\n",
    "        for _ in range(counter.get(x, 0)):\n",
    "            array[ind] = key\n",
    "            ind += 1"
   ]
  },
  {
   "cell_type": "markdown",
   "metadata": {},
   "source": [
    "#### merge sort\n",
    "\n",
    "<img src=\"images/merge-sort.gif\">"
   ]
  },
  {
   "cell_type": "code",
   "execution_count": 6,
   "metadata": {},
   "outputs": [],
   "source": [
    "def merge(A, p, q, r):\n",
    "    n1 = q - p\n",
    "    n2 = r - q\n",
    "    L = [A[p+i] for i in range(n1)] + [None]\n",
    "    R = [A[q+i] for i in range(n2)] + [None]\n",
    "    i = j = 0\n",
    "    for k in range(p, r):\n",
    "        if R[j] is None or L[i] is not None and L[i] <= R[j]:\n",
    "            A[k] = L[i]\n",
    "            i += 1\n",
    "        else:\n",
    "            A[k] = R[j]\n",
    "            j += 1\n",
    "\n",
    "\n",
    "def merge_sort(array, p=0, r=None):\n",
    "    r = len(array) if r is None else r\n",
    "    if p < r-1:\n",
    "        q = (p+r)//2\n",
    "        merge_sort(array, p, q)\n",
    "        merge_sort(array, q, r)\n",
    "        merge(array, p, q, r)"
   ]
  },
  {
   "cell_type": "markdown",
   "metadata": {},
   "source": [
    "#### quick sort\n",
    "\n",
    "<img src=\"images/quick-sort.gif\">"
   ]
  },
  {
   "cell_type": "code",
   "execution_count": 7,
   "metadata": {},
   "outputs": [],
   "source": [
    "def partition(array, p, r):\n",
    "    x = array[r]\n",
    "    i = p-1\n",
    "    for j in range(p, r):\n",
    "        if array[j] <= x:\n",
    "            i += 1\n",
    "            array[i], array[j] = array[j], array[i]\n",
    "    array[i+1], array[r] = array[r], array[i+1]\n",
    "    return i + 1\n",
    "\n",
    "\n",
    "def quick_sort(array, p=0, r=None):\n",
    "    r = len(array)-1 if r is None else r\n",
    "    if p < r:\n",
    "        q = partition(array, p, r)\n",
    "        quick_sort(array, p, q-1)\n",
    "        quick_sort(array, q+1, r)"
   ]
  },
  {
   "cell_type": "markdown",
   "metadata": {},
   "source": [
    "#### heap sort\n",
    "\n",
    "<img src=\"images/heap-sort.gif\">"
   ]
  },
  {
   "cell_type": "code",
   "execution_count": 8,
   "metadata": {},
   "outputs": [],
   "source": [
    "def parent(i):\n",
    "    return (i-1)//2\n",
    "\n",
    "\n",
    "def left_child(i):\n",
    "    return 2*i+1\n",
    "\n",
    "\n",
    "def right_child(i):\n",
    "    return 2*i+2\n",
    "\n",
    "\n",
    "def max_heapify(array, i, heap_size=None):\n",
    "    heap_size = len(array) if heap_size is None else heap_size\n",
    "    left = left_child(i)\n",
    "    right = right_child(i)\n",
    "    if left < heap_size and array[left] > array[i]:\n",
    "        largest = left\n",
    "    else:\n",
    "        largest = i\n",
    "    if right < heap_size and array[right] > array[largest]:\n",
    "        largest = right\n",
    "    if largest != i:\n",
    "        array[i], array[largest] = array[largest], array[i]\n",
    "        max_heapify(array, largest, heap_size)\n",
    "\n",
    "\n",
    "def build_max_heap(array):\n",
    "    for i in range(len(array)//2, -1, -1):\n",
    "        max_heapify(array, i)\n",
    "\n",
    "\n",
    "def heap_sort(array):\n",
    "    build_max_heap(array)\n",
    "    heap_size = len(array)\n",
    "    for i in range(len(array)-1, 0, -1):\n",
    "        array[0], array[i] = array[i], array[0]\n",
    "        heap_size -= 1\n",
    "        max_heapify(array, 0, heap_size)"
   ]
  },
  {
   "cell_type": "markdown",
   "metadata": {},
   "source": [
    "## Search"
   ]
  },
  {
   "cell_type": "markdown",
   "metadata": {},
   "source": [
    "### linear search"
   ]
  },
  {
   "cell_type": "code",
   "execution_count": 30,
   "metadata": {},
   "outputs": [],
   "source": [
    "def liner_search(x, array):\n",
    "    for ind, val in enumerate(array):\n",
    "        if x == val:\n",
    "            return ind\n",
    "\n",
    "    raise ValueError(f\"{x} is not in list\")"
   ]
  },
  {
   "cell_type": "markdown",
   "metadata": {},
   "source": [
    "### binary search"
   ]
  },
  {
   "cell_type": "code",
   "execution_count": 65,
   "metadata": {},
   "outputs": [],
   "source": [
    "def binary_search(x, array):\n",
    "    \"\"\" array is sorted \"\"\"\n",
    "\n",
    "    index = _left_bound(array, x)\n",
    "\n",
    "    if (index < len(array) - 1) and (array[index + 1] == x):\n",
    "        return index + 1\n",
    "\n",
    "    raise ValueError(f\"{x} is not in list\")\n",
    "\n",
    "\n",
    "def _left_bound(array, val):\n",
    "    left = - 1\n",
    "    right = len(array)\n",
    "\n",
    "    while right - left > 1:\n",
    "\n",
    "        middle = (left + right) // 2\n",
    "\n",
    "        if array[middle] < val:\n",
    "            left = middle\n",
    "        else:\n",
    "            right = middle\n",
    "\n",
    "    return left"
   ]
  },
  {
   "cell_type": "markdown",
   "metadata": {},
   "source": [
    "## Simple (teaching) algorithms"
   ]
  },
  {
   "cell_type": "markdown",
   "metadata": {},
   "source": [
    "### Sum"
   ]
  },
  {
   "cell_type": "code",
   "execution_count": 110,
   "metadata": {},
   "outputs": [],
   "source": [
    "def summ(iterator):\n",
    "    result = 0\n",
    "\n",
    "    for x in iterator:\n",
    "        result += x\n",
    "\n",
    "    return result"
   ]
  },
  {
   "cell_type": "markdown",
   "metadata": {},
   "source": [
    "### Prod"
   ]
  },
  {
   "cell_type": "code",
   "execution_count": 124,
   "metadata": {},
   "outputs": [],
   "source": [
    "def prod(iterator):\n",
    "    prod = 1\n",
    "\n",
    "    for x in iterator:\n",
    "        prod *= x\n",
    "\n",
    "    return prod"
   ]
  },
  {
   "cell_type": "markdown",
   "metadata": {},
   "source": [
    "### Power"
   ]
  },
  {
   "cell_type": "code",
   "execution_count": null,
   "metadata": {},
   "outputs": [],
   "source": [
    "def power(x, p):\n",
    "    assert p >= 0, \"only p >= 0\"\n",
    "\n",
    "    result = 1\n",
    "\n",
    "    for _ in range(p):\n",
    "        result *= x\n",
    "\n",
    "    return result"
   ]
  },
  {
   "cell_type": "markdown",
   "metadata": {},
   "source": [
    "### Factorial"
   ]
  },
  {
   "cell_type": "code",
   "execution_count": null,
   "metadata": {},
   "outputs": [],
   "source": [
    "def factorial(x):\n",
    "    assert x >= 0, \"only x >= 0\"\n",
    "\n",
    "    result = 1\n",
    "\n",
    "    for i in range(1, x+1):\n",
    "        result *= i\n",
    "\n",
    "    return result"
   ]
  },
  {
   "cell_type": "markdown",
   "metadata": {},
   "source": [
    "### Equal"
   ]
  },
  {
   "cell_type": "code",
   "execution_count": 125,
   "metadata": {},
   "outputs": [],
   "source": [
    "def equal(arr1, arr2):\n",
    "    if len(arr1) != len(arr2):\n",
    "        return False\n",
    "\n",
    "    for x, y in zip(arr1, arr2):\n",
    "        if x != y:\n",
    "            return False\n",
    "\n",
    "    return True"
   ]
  },
  {
   "cell_type": "markdown",
   "metadata": {},
   "source": [
    "### Copy"
   ]
  },
  {
   "cell_type": "code",
   "execution_count": 13,
   "metadata": {},
   "outputs": [],
   "source": [
    "def copy(arr):\n",
    "    new_arr = []\n",
    "\n",
    "    for x in arr:\n",
    "        new_arr.append(x)\n",
    "        \n",
    "    return new_arr"
   ]
  },
  {
   "cell_type": "markdown",
   "metadata": {},
   "source": [
    "### Invert array"
   ]
  },
  {
   "cell_type": "code",
   "execution_count": 24,
   "metadata": {},
   "outputs": [],
   "source": [
    "def invert_array(arr):\n",
    "    N = len(arr)\n",
    "\n",
    "    for i in range(N//2):\n",
    "        arr[i], arr[N-i-1] = arr[N-i-1], arr[i]"
   ]
  },
  {
   "cell_type": "markdown",
   "metadata": {},
   "source": [
    "### Circular shift"
   ]
  },
  {
   "cell_type": "code",
   "execution_count": 38,
   "metadata": {},
   "outputs": [],
   "source": [
    "def circular_shift_to_left(arr):\n",
    "    N = len(arr)\n",
    "\n",
    "    if N == 0:\n",
    "        return arr\n",
    "    \n",
    "    first_element = arr[0]\n",
    "\n",
    "    for i in range(1, N):\n",
    "        arr[i-1] = arr[i]\n",
    "        \n",
    "    arr[-1] = first_element"
   ]
  },
  {
   "cell_type": "code",
   "execution_count": 42,
   "metadata": {},
   "outputs": [],
   "source": [
    "def circular_shift_to_right(arr):\n",
    "    N = len(arr)\n",
    "\n",
    "    if N == 0:\n",
    "        return arr\n",
    "    \n",
    "    last_element = arr[-1]\n",
    "\n",
    "    for i in range(N-1, 0, -1):\n",
    "        arr[i] = arr[i-1]\n",
    "        \n",
    "    arr[0] = last_element"
   ]
  },
  {
   "cell_type": "markdown",
   "metadata": {},
   "source": [
    "## Recursion"
   ]
  },
  {
   "cell_type": "markdown",
   "metadata": {},
   "source": [
    "### Fibonacci number (not optimal)"
   ]
  },
  {
   "cell_type": "code",
   "execution_count": 14,
   "metadata": {},
   "outputs": [],
   "source": [
    "def fibonachi_recursive(n):\n",
    "    if n == 1 or n == 2:\n",
    "        return 1\n",
    "    else:\n",
    "        return fibonachi_recursive(n-1)+fibonachi_recursive(n-2)"
   ]
  },
  {
   "cell_type": "markdown",
   "metadata": {},
   "source": [
    "### factorial"
   ]
  },
  {
   "cell_type": "code",
   "execution_count": 15,
   "metadata": {},
   "outputs": [],
   "source": [
    "def factorial(n):\n",
    "    return 1 if n == 0 else factorial(n-1)*n"
   ]
  },
  {
   "cell_type": "markdown",
   "metadata": {},
   "source": [
    "### pow"
   ]
  },
  {
   "cell_type": "code",
   "execution_count": 16,
   "metadata": {},
   "outputs": [],
   "source": [
    "def pow_(x, n):\n",
    "    return 1 if n == 0 else pow_(x, n-1)*x"
   ]
  },
  {
   "cell_type": "markdown",
   "metadata": {},
   "source": [
    "### fast pow"
   ]
  },
  {
   "cell_type": "code",
   "execution_count": 17,
   "metadata": {},
   "outputs": [],
   "source": [
    "def fast_pow(x, n):\n",
    "    if n == 0:\n",
    "        return 1\n",
    "    elif n % 2 == 1:\n",
    "        return fast_pow(x, n-1)*x\n",
    "    elif n % 2 == 0:\n",
    "        return fast_pow(x*x, n//2)"
   ]
  },
  {
   "cell_type": "markdown",
   "metadata": {},
   "source": [
    "### Euclidean algorithm"
   ]
  },
  {
   "cell_type": "code",
   "execution_count": 2,
   "metadata": {},
   "outputs": [],
   "source": [
    "def gcd(a, b):\n",
    "    return a if b == 0 else gcd(b, a%b)"
   ]
  },
  {
   "cell_type": "markdown",
   "metadata": {},
   "source": [
    "### Tower of Hanoi"
   ]
  },
  {
   "cell_type": "code",
   "execution_count": 60,
   "metadata": {},
   "outputs": [],
   "source": [
    "def move_tower(array, from_, to_, count):\n",
    "    tmp_index = 3 - from_ - to_\n",
    "\n",
    "    if count == 0:\n",
    "        return None\n",
    "\n",
    "    move_tower(array, from_, tmp_index, count-1)\n",
    "    element = array[from_].pop()\n",
    "    array[to_].append(element)\n",
    "    move_tower(array, tmp_index, to_, count-1)"
   ]
  },
  {
   "cell_type": "markdown",
   "metadata": {},
   "source": [
    "### Geration numbers"
   ]
  },
  {
   "cell_type": "code",
   "execution_count": 23,
   "metadata": {},
   "outputs": [],
   "source": [
    "def generate_numbers(count, base, prefix=None, result=None):\n",
    "    result = [] if result is None else result\n",
    "    prefix = prefix or \"\"\n",
    "\n",
    "    if count == 0:\n",
    "        result.append(prefix)\n",
    "        return result\n",
    "\n",
    "    for i in range(base):\n",
    "        prefix += str(i)\n",
    "        generate_numbers(count-1, base, prefix=prefix, result=result)\n",
    "        prefix = prefix[:-1]\n",
    "        \n",
    "    return result"
   ]
  },
  {
   "cell_type": "markdown",
   "metadata": {},
   "source": [
    "### Permutations"
   ]
  },
  {
   "cell_type": "code",
   "execution_count": 30,
   "metadata": {},
   "outputs": [],
   "source": [
    "def generate_permutations(numbers, M=None, prefix=None, result=None):\n",
    "    M = len(numbers) if M is None else M\n",
    "    result = [] if result is None else result\n",
    "    prefix = prefix or \"\"\n",
    "    \n",
    "    if M == 0:\n",
    "        result.append(prefix)\n",
    "        return result\n",
    "\n",
    "    for number in numbers:\n",
    "        if str(number) not in prefix:\n",
    "            prefix += str(number)\n",
    "            generate_permutations(numbers, M-1, prefix=prefix, result=result)\n",
    "            prefix = prefix[:-1]\n",
    "            \n",
    "    return result"
   ]
  },
  {
   "cell_type": "markdown",
   "metadata": {},
   "source": [
    "## Brute force"
   ]
  },
  {
   "cell_type": "markdown",
   "metadata": {},
   "source": [
    "### checking prime number"
   ]
  },
  {
   "cell_type": "code",
   "execution_count": 1,
   "metadata": {},
   "outputs": [],
   "source": [
    "def is_prime_number(n):\n",
    "    for i in range(2, int(n**0.5)+1):\n",
    "        if n % i == 0:\n",
    "            return False\n",
    "\n",
    "    return True"
   ]
  },
  {
   "cell_type": "markdown",
   "metadata": {},
   "source": [
    "### factorizing number"
   ]
  },
  {
   "cell_type": "code",
   "execution_count": 9,
   "metadata": {},
   "outputs": [],
   "source": [
    "def factorize_number(n):\n",
    "    result = []\n",
    "    divisor = 2\n",
    "\n",
    "    while n != 1:\n",
    "        if n % divisor == 0:\n",
    "            n //= divisor\n",
    "            result.append(divisor)\n",
    "        else:\n",
    "            divisor += 1\n",
    "            \n",
    "    return result"
   ]
  },
  {
   "cell_type": "markdown",
   "metadata": {},
   "source": [
    "### checking sorted array"
   ]
  },
  {
   "cell_type": "code",
   "execution_count": null,
   "metadata": {},
   "outputs": [],
   "source": [
    "def is_sorted(array):\n",
    "    for i in range(len(array)-1):\n",
    "        if array[i] > array[i+1]:\n",
    "            return False\n",
    "\n",
    "    return True"
   ]
  },
  {
   "cell_type": "markdown",
   "metadata": {},
   "source": [
    "## Dynamic programming"
   ]
  },
  {
   "cell_type": "markdown",
   "metadata": {},
   "source": [
    "### Fibonacci number"
   ]
  },
  {
   "cell_type": "code",
   "execution_count": 18,
   "metadata": {},
   "outputs": [],
   "source": [
    "def fibonachi_dinamic(n):\n",
    "    fib = [1, 1]\n",
    "    for i in range(2, n):\n",
    "        fib.append(fib[-1]+fib[-2])\n",
    "    return fib[-1]"
   ]
  },
  {
   "cell_type": "markdown",
   "metadata": {},
   "source": [
    "### 1D Dynamic programming"
   ]
  },
  {
   "cell_type": "code",
   "execution_count": 51,
   "metadata": {},
   "outputs": [],
   "source": [
    "def get_number_of_trajectories_for_grasshopper(N):\n",
    "    k = [0, 1] + [0] * (N - 1)\n",
    "\n",
    "    for i in range(2, N+1):\n",
    "        k[i] = k[i-1] + k[i-2]\n",
    "        \n",
    "    return k[-1]"
   ]
  },
  {
   "cell_type": "markdown",
   "metadata": {},
   "source": [
    "### 2D Dynamic programming"
   ]
  },
  {
   "cell_type": "code",
   "execution_count": 61,
   "metadata": {},
   "outputs": [],
   "source": [
    "def get_number_of_trajectories_for_chess_king(N, M):\n",
    "    k = [[0]*(M+1) for i in range(N+1)]\n",
    "\n",
    "    for i in range(1, N+1):\n",
    "        k[i][1] = 1\n",
    "        \n",
    "    for i in range(1, M+1):\n",
    "        k[1][i] = 1\n",
    "\n",
    "    for i in range(2, N+1):\n",
    "        for j in range(2, M+1):\n",
    "            k[i][j] = k[i-1][j] + k[i][j-1]\n",
    "        \n",
    "    return k[-1][-1]"
   ]
  },
  {
   "cell_type": "markdown",
   "metadata": {},
   "source": [
    "### Longest common subsequence problem"
   ]
  },
  {
   "cell_type": "code",
   "execution_count": 111,
   "metadata": {},
   "outputs": [],
   "source": [
    "def longest_common_subsequence(a, b):\n",
    "    N = len(a)\n",
    "    M = len(b)\n",
    "    F = [[0]*(M+1) for i in range(N+1)]\n",
    "    \n",
    "    for i in range(1, N+1):\n",
    "        for j in range(1, M+1):\n",
    "            if a[i-1] == b[j-1]:\n",
    "                F[i][j] = 1 + F[i-1][j-1]\n",
    "            else:\n",
    "                F[i][j] = max(F[i-1][j], F[i][j-1])\n",
    "\n",
    "    return F[-1][-1]"
   ]
  },
  {
   "cell_type": "markdown",
   "metadata": {},
   "source": [
    "### Longest increasing subsequence"
   ]
  },
  {
   "cell_type": "code",
   "execution_count": 129,
   "metadata": {},
   "outputs": [],
   "source": [
    "def longest_increasing_subsequence(array):\n",
    "    N = len(array)\n",
    "    F = [0]*(N+1)\n",
    "\n",
    "    for i in range(1, N+1):\n",
    "        m = 0\n",
    "        for j in range(i):\n",
    "            if array[i-1] > array[j-1] and F[j] > m:\n",
    "                m = F[j]\n",
    "        F[i] = m + 1\n",
    "\n",
    "    return max(F)"
   ]
  },
  {
   "cell_type": "markdown",
   "metadata": {},
   "source": [
    "### Knapsack problem"
   ]
  },
  {
   "cell_type": "code",
   "execution_count": 136,
   "metadata": {},
   "outputs": [],
   "source": [
    "def knapsack(masses, costs, max_size):\n",
    "    a = [[0]*(max_size+1) for i in range(len(masses)+1)]\n",
    "    \n",
    "    for i in range(len(masses)+1):\n",
    "        for w in range(max_size+1):\n",
    "            if w > masses[i-1]:\n",
    "                a[i][w] = max(costs[i-1] + a[i-1][w-masses[i-1]], a[i-1][w])\n",
    "            else:\n",
    "                a[i][w] = a[i-1][w]\n",
    "                \n",
    "    return a[-1][-1]"
   ]
  },
  {
   "cell_type": "markdown",
   "metadata": {},
   "source": [
    "# Strings"
   ]
  },
  {
   "cell_type": "markdown",
   "metadata": {},
   "source": [
    "### Levenshtein distance"
   ]
  },
  {
   "cell_type": "code",
   "execution_count": 155,
   "metadata": {},
   "outputs": [],
   "source": [
    "def levenshtein_distance(string1, string2):\n",
    "    N = len(string1)\n",
    "    M = len(string2)\n",
    "    F = [[0]*(M+1) for i in range(N+1)]\n",
    "    \n",
    "    for i in range(1, N+1):\n",
    "        F[i][0] = i\n",
    "        \n",
    "    for j in range(1, M+1):\n",
    "        F[0][j] = j\n",
    "    \n",
    "    for i in range(1, N+1):\n",
    "        for j in range(1, M+1):\n",
    "            if string1[i-1] == string2[j-1]:\n",
    "                F[i][j] = F[i-1][j-1]\n",
    "            else:\n",
    "                F[i][j] = 1 + min(F[i-1][j-1], F[i][j-1], F[i-1][j])\n",
    "    \n",
    "    return F[-1][-1]"
   ]
  },
  {
   "cell_type": "markdown",
   "metadata": {},
   "source": [
    "### String-searching algorithm or Knuth–Morris–Pratt algorithm"
   ]
  },
  {
   "cell_type": "code",
   "execution_count": 20,
   "metadata": {},
   "outputs": [],
   "source": [
    "def pi(string):\n",
    "    result = [0] * len(string)\n",
    "\n",
    "    for i in range(1, len(string)):\n",
    "        p = result[i-1]\n",
    "\n",
    "        while string[i] != string[p] and p > 0:\n",
    "            p = result[p]\n",
    "\n",
    "        if string[i] == string[p]:\n",
    "            p += 1\n",
    "\n",
    "        result[i] = p\n",
    "\n",
    "    return result\n",
    "\n",
    "\n",
    "def kmp(string, substring):\n",
    "    array_pi = pi(string)\n",
    "    j = 0\n",
    "\n",
    "    for i in range(len(string)):\n",
    "        \n",
    "        if string[i] == substring[j]:\n",
    "            j += 1\n",
    "        elif j != 0:\n",
    "            j = array_pi[j-1]\n",
    "\n",
    "        if j == len(substring):\n",
    "            return i - j + 1\n",
    "\n",
    "    return -1"
   ]
  },
  {
   "cell_type": "markdown",
   "metadata": {},
   "source": [
    "## Sieve of Eratosthenes"
   ]
  },
  {
   "cell_type": "code",
   "execution_count": 58,
   "metadata": {},
   "outputs": [],
   "source": [
    "def find_prime_number_up_to(n):\n",
    "    n += 1\n",
    "    sieve = [True]*n\n",
    "    sieve[0] = sieve[1] = False\n",
    "\n",
    "    for i in range(2, int(n**0.5)+1):\n",
    "        if sieve[i]:\n",
    "            for j in range(2*i, n, i):\n",
    "                sieve[j] = False\n",
    "                \n",
    "    return [i for i in range(n) if sieve[i]]"
   ]
  },
  {
   "cell_type": "markdown",
   "metadata": {},
   "source": [
    "## Algoritms on stack"
   ]
  },
  {
   "cell_type": "markdown",
   "metadata": {},
   "source": [
    "### checking balanced parenthesis"
   ]
  },
  {
   "cell_type": "code",
   "execution_count": 37,
   "metadata": {},
   "outputs": [],
   "source": [
    "def is_checking_balanced_parenthesis(string):\n",
    "    stack = Stack()\n",
    "\n",
    "    parenthesis_match = {\n",
    "        \"(\": \")\",\n",
    "        \"[\": \"]\",\n",
    "        \"{\": \"}\",\n",
    "    }\n",
    "\n",
    "    for letter in string:\n",
    "        if letter in parenthesis_match:\n",
    "            stack.push(letter)\n",
    "        elif stack.is_empty() or parenthesis_match[stack.pop()] != letter:\n",
    "            return False\n",
    "\n",
    "    return stack.is_empty()"
   ]
  },
  {
   "cell_type": "markdown",
   "metadata": {},
   "source": [
    "### Reverse Polish notation"
   ]
  },
  {
   "cell_type": "code",
   "execution_count": 44,
   "metadata": {},
   "outputs": [],
   "source": [
    "def calculation_reverse_polish_notation(array):\n",
    "    stack = Stack()\n",
    "\n",
    "    for x in array:\n",
    "        if isinstance(x, int) or isinstance(x, float):\n",
    "            stack.push(x)\n",
    "        else:\n",
    "            b = stack.pop()\n",
    "            a = stack.pop()\n",
    "            c = x(a, b)\n",
    "            stack.push(c)\n",
    "\n",
    "    return stack.pop()"
   ]
  },
  {
   "cell_type": "code",
   "execution_count": null,
   "metadata": {},
   "outputs": [],
   "source": []
  }
 ],
 "metadata": {
  "kernelspec": {
   "display_name": "Python 3 (ipykernel)",
   "language": "python",
   "name": "python3"
  },
  "language_info": {
   "codemirror_mode": {
    "name": "ipython",
    "version": 3
   },
   "file_extension": ".py",
   "mimetype": "text/x-python",
   "name": "python",
   "nbconvert_exporter": "python",
   "pygments_lexer": "ipython3",
   "version": "3.9.6"
  }
 },
 "nbformat": 4,
 "nbformat_minor": 2
}
