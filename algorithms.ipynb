{
 "cells": [
  {
   "cell_type": "markdown",
   "metadata": {},
   "source": [
    "# Sort"
   ]
  },
  {
   "cell_type": "markdown",
   "metadata": {},
   "source": [
    "| Name          |Best               | Average          | Worst                 | Space                |Stable|\n",
    "| -------------:|:-----------------:|:----------------:|:---------------------:|:--------------------:|:----:|\n",
    "| choice sort   | $\\Omega(n^2)$     |$\\Theta(n^2)$     |$\\mathcal{O}(n^2)$     |$\\mathcal{O}(1)$      |No    |\n",
    "| insertion sort| $\\Omega(n)$       |$\\Theta(n^2)$     |$\\mathcal{O}(n^2)$     |$\\mathcal{O}(1)$      |Yes   |\n",
    "| bubble sort   | $\\Omega(n)$       |$\\Theta(n^2)$     |$\\mathcal{O}(n^2)$     |$\\mathcal{O}(1)$      |Yes   |\n",
    "| count sort    | $\\Omega(n+k)$     |$\\Theta(n+k)$     |$\\mathcal{O}(n+k)$     |$\\mathcal{O}(k)$      |---   |\n",
    "| merge sort    | $\\Omega(n\\log{n})$|$\\Theta(n\\log{n})$|$\\mathcal{O}(n\\log{n})$|$\\mathcal{O}(n)$      |Yes   |\n",
    "| quick sort    | $\\Omega(n\\log{n})$|$\\Theta(n\\log{n})$|$\\mathcal{O}(n^2)$     |$\\mathcal{O}(1)$|No    |\n",
    "| heap sort     | $\\Omega(n\\log{n})$|$\\Theta(n\\log{n})$|$\\mathcal{O}(n\\log{n})$|$\\mathcal{O}(1)$      |No    |"
   ]
  },
  {
   "cell_type": "markdown",
   "metadata": {},
   "source": [
    "## Quadratic sort"
   ]
  },
  {
   "cell_type": "markdown",
   "metadata": {},
   "source": [
    "### choice (selection) sort\n",
    "\n",
    "<img src=\"images/choice-sort.gif\">"
   ]
  },
  {
   "cell_type": "code",
   "execution_count": 2,
   "metadata": {},
   "outputs": [],
   "source": [
    "def choice_sort(array):\n",
    "    for sort_index in range(len(array)):\n",
    "        for i in range(sort_index+1, len(array)):\n",
    "            if array[i] < array[sort_index]:\n",
    "                array[i], array[sort_index] = array[sort_index], array[i]"
   ]
  },
  {
   "cell_type": "markdown",
   "metadata": {},
   "source": [
    "### insertion sort\n",
    "\n",
    "<img src=\"images/insert-sort.gif\">"
   ]
  },
  {
   "cell_type": "code",
   "execution_count": 3,
   "metadata": {},
   "outputs": [],
   "source": [
    "def insert_sort(array):\n",
    "    for sort_index in range(1, len(array)):\n",
    "        i = sort_index\n",
    "        while i > 0 and array[i-1] > array[i]:\n",
    "            array[i-1], array[i] = array[i], array[i-1]\n",
    "            i -= 1"
   ]
  },
  {
   "cell_type": "markdown",
   "metadata": {},
   "source": [
    "### bubble sort\n",
    "\n",
    "<img src=\"images/bubble-sort.gif\">"
   ]
  },
  {
   "cell_type": "code",
   "execution_count": 4,
   "metadata": {},
   "outputs": [],
   "source": [
    "def bubble_sort(array):\n",
    "    for sort_index in range(len(array)):\n",
    "        for i in range(len(array) - sort_index - 1):\n",
    "            if array[i] > array[i+1]:\n",
    "                array[i], array[i+1] = array[i+1], array[i]"
   ]
  },
  {
   "cell_type": "markdown",
   "metadata": {},
   "source": [
    "## Fast sort"
   ]
  },
  {
   "cell_type": "markdown",
   "metadata": {},
   "source": [
    "### count sort"
   ]
  },
  {
   "cell_type": "code",
   "execution_count": 5,
   "metadata": {},
   "outputs": [],
   "source": [
    "def count_sort(array):\n",
    "    if len(array) == 0:\n",
    "        return\n",
    "\n",
    "    counter = {}\n",
    "    min_value = max_value = array[0]\n",
    "\n",
    "    for x in array:\n",
    "        counter[x] = counter.get(x, 0) + 1\n",
    "        min_value = x if x < min_value else min_value\n",
    "        max_value = x if x > max_value else max_value\n",
    "\n",
    "    ind = 0\n",
    "    for key in range(min_value, max_value+1):\n",
    "        for _ in range(counter.get(x, 0)):\n",
    "            array[ind] = key\n",
    "            ind += 1"
   ]
  },
  {
   "cell_type": "markdown",
   "metadata": {},
   "source": [
    "### merge sort\n",
    "\n",
    "<img src=\"images/merge-sort.gif\">"
   ]
  },
  {
   "cell_type": "code",
   "execution_count": 6,
   "metadata": {},
   "outputs": [],
   "source": [
    "def merge(A, p, q, r):\n",
    "    n1 = q - p\n",
    "    n2 = r - q\n",
    "    L = [A[p+i] for i in range(n1)] + [None]\n",
    "    R = [A[q+i] for i in range(n2)] + [None]\n",
    "    i = j = 0\n",
    "    for k in range(p, r):\n",
    "        if R[j] is None or L[i] is not None and L[i] <= R[j]:\n",
    "            A[k] = L[i]\n",
    "            i += 1\n",
    "        else:\n",
    "            A[k] = R[j]\n",
    "            j += 1\n",
    "\n",
    "\n",
    "def merge_sort(array, p=0, r=None):\n",
    "    r = len(array) if r is None else r\n",
    "    if p < r-1:\n",
    "        q = (p+r)//2\n",
    "        merge_sort(array, p, q)\n",
    "        merge_sort(array, q, r)\n",
    "        merge(array, p, q, r)"
   ]
  },
  {
   "cell_type": "markdown",
   "metadata": {},
   "source": [
    "### quick sort\n",
    "\n",
    "<img src=\"images/quick-sort.gif\">"
   ]
  },
  {
   "cell_type": "code",
   "execution_count": 7,
   "metadata": {},
   "outputs": [],
   "source": [
    "def partition(array, p, r):\n",
    "    x = array[r]\n",
    "    i = p-1\n",
    "    for j in range(p, r):\n",
    "        if array[j] <= x:\n",
    "            i += 1\n",
    "            array[i], array[j] = array[j], array[i]\n",
    "    array[i+1], array[r] = array[r], array[i+1]\n",
    "    return i + 1\n",
    "\n",
    "\n",
    "def quick_sort(array, p=0, r=None):\n",
    "    r = len(array)-1 if r is None else r\n",
    "    if p < r:\n",
    "        q = partition(array, p, r)\n",
    "        quick_sort(array, p, q-1)\n",
    "        quick_sort(array, q+1, r)"
   ]
  },
  {
   "cell_type": "markdown",
   "metadata": {},
   "source": [
    "### heap sort\n",
    "\n",
    "<img src=\"images/heap-sort.gif\">"
   ]
  },
  {
   "cell_type": "code",
   "execution_count": 8,
   "metadata": {},
   "outputs": [],
   "source": [
    "def parent(i):\n",
    "    return (i-1)//2\n",
    "\n",
    "\n",
    "def left_child(i):\n",
    "    return 2*i+1\n",
    "\n",
    "\n",
    "def right_child(i):\n",
    "    return 2*i+2\n",
    "\n",
    "\n",
    "def max_heapify(array, i, heap_size=None):\n",
    "    heap_size = len(array) if heap_size is None else heap_size\n",
    "    left = left_child(i)\n",
    "    right = right_child(i)\n",
    "    if left < heap_size and array[left] > array[i]:\n",
    "        largest = left\n",
    "    else:\n",
    "        largest = i\n",
    "    if right < heap_size and array[right] > array[largest]:\n",
    "        largest = right\n",
    "    if largest != i:\n",
    "        array[i], array[largest] = array[largest], array[i]\n",
    "        max_heapify(array, largest, heap_size)\n",
    "\n",
    "\n",
    "def build_max_heap(array):\n",
    "    for i in range(len(array)//2, -1, -1):\n",
    "        max_heapify(array, i)\n",
    "\n",
    "\n",
    "def heap_sort(array):\n",
    "    build_max_heap(array)\n",
    "    heap_size = len(array)\n",
    "    for i in range(len(array)-1, 0, -1):\n",
    "        array[0], array[i] = array[i], array[0]\n",
    "        heap_size -= 1\n",
    "        max_heapify(array, 0, heap_size)"
   ]
  },
  {
   "cell_type": "markdown",
   "metadata": {},
   "source": [
    "## Sort test"
   ]
  },
  {
   "cell_type": "markdown",
   "metadata": {},
   "source": [
    "### Unit test"
   ]
  },
  {
   "cell_type": "code",
   "execution_count": 9,
   "metadata": {},
   "outputs": [],
   "source": [
    "import itertools\n",
    "\n",
    "\n",
    "N = 7\n",
    "\n",
    "\n",
    "def sort_test_of(func):\n",
    "    for length in range(N):\n",
    "        for permutation in itertools.permutations(range(length)):\n",
    "            array = list(permutation)\n",
    "            func(array)\n",
    "            assert array == list(range(length))"
   ]
  },
  {
   "cell_type": "code",
   "execution_count": 10,
   "metadata": {},
   "outputs": [],
   "source": [
    "sort_test_of(choice_sort)\n",
    "sort_test_of(insert_sort)\n",
    "sort_test_of(bubble_sort)\n",
    "sort_test_of(count_sort)\n",
    "sort_test_of(merge_sort)\n",
    "sort_test_of(quick_sort)\n",
    "sort_test_of(heap_sort)\n",
    "sort_test_of(lambda x: x.sort())"
   ]
  },
  {
   "cell_type": "markdown",
   "metadata": {},
   "source": [
    "### Time test"
   ]
  },
  {
   "cell_type": "code",
   "execution_count": 28,
   "metadata": {},
   "outputs": [],
   "source": [
    "import time\n",
    "import random\n",
    "import functools\n",
    "\n",
    "N = 10000\n",
    "array = list(range(N))\n",
    "random.shuffle(array)\n",
    "\n",
    "\n",
    "def timer_sort_of(func):\n",
    "    @functools.wraps(func)\n",
    "    def wrapper(*args, **kwargs):\n",
    "        start = time.time()\n",
    "        func(*args, **kwargs)\n",
    "        end = time.time()\n",
    "        print(f\"{func.__name__}: {end-start:.2f}s\")\n",
    "    return wrapper"
   ]
  },
  {
   "cell_type": "code",
   "execution_count": 29,
   "metadata": {},
   "outputs": [
    {
     "name": "stdout",
     "output_type": "stream",
     "text": [
      "choice_sort: 7.46s\n",
      "insert_sort: 8.29s\n",
      "bubble_sort: 10.24s\n",
      "count_sort: 0.01s\n",
      "merge_sort: 0.07s\n",
      "quick_sort: 0.03s\n",
      "heap_sort: 0.11s\n",
      "<lambda>: 0.00s\n"
     ]
    }
   ],
   "source": [
    "timer_sort_of(choice_sort)(array.copy())\n",
    "timer_sort_of(insert_sort)(array.copy())\n",
    "timer_sort_of(bubble_sort)(array.copy())\n",
    "timer_sort_of(count_sort)(array.copy())\n",
    "timer_sort_of(merge_sort)(array.copy())\n",
    "timer_sort_of(quick_sort)(array.copy())\n",
    "timer_sort_of(heap_sort)(array.copy())\n",
    "timer_sort_of(lambda x: x.sort())(array.copy())"
   ]
  },
  {
   "cell_type": "markdown",
   "metadata": {},
   "source": [
    "### Stable test, order is stable"
   ]
  },
  {
   "cell_type": "code",
   "execution_count": null,
   "metadata": {},
   "outputs": [],
   "source": [
    "# todo\n",
    "# class KeyVal:\n",
    "\n",
    "#     def __init__(self, key, val):\n",
    "#         self.val = val\n",
    "#         self.key = key\n",
    "\n",
    "#     def __lt__(self, other):\n",
    "#         return self.key < other.key\n",
    "\n",
    "#     def __le__(self, other):\n",
    "#         return self.key <= other.key\n",
    "\n",
    "#     def __eq__(self, other):\n",
    "#         return self.key == other.key\n",
    "\n",
    "#     def __gt__(self, other):\n",
    "#         return self.key > other.key\n",
    "\n",
    "#     def __ge__(self, other):\n",
    "#         return self.key >= other.key"
   ]
  },
  {
   "cell_type": "markdown",
   "metadata": {},
   "source": [
    "# Search"
   ]
  },
  {
   "cell_type": "markdown",
   "metadata": {},
   "source": [
    "### linear search"
   ]
  },
  {
   "cell_type": "code",
   "execution_count": 30,
   "metadata": {},
   "outputs": [],
   "source": [
    "def liner_search(x, array):\n",
    "    for ind, val in enumerate(array):\n",
    "        if x == val:\n",
    "            return ind\n",
    "\n",
    "    raise ValueError(f\"{x} is not in list\")"
   ]
  },
  {
   "cell_type": "markdown",
   "metadata": {},
   "source": [
    "### binary search"
   ]
  },
  {
   "cell_type": "code",
   "execution_count": 65,
   "metadata": {},
   "outputs": [],
   "source": [
    "def binary_search(x, array):\n",
    "    \"\"\" array is sorted \"\"\"\n",
    "\n",
    "    index = _left_bound(array, x)\n",
    "\n",
    "    if (index < len(array) - 1) and (array[index + 1] == x):\n",
    "        return index + 1\n",
    "\n",
    "    raise ValueError(f\"{x} is not in list\")\n",
    "\n",
    "\n",
    "def _left_bound(array, val):\n",
    "    left = - 1\n",
    "    right = len(array)\n",
    "\n",
    "    while right - left > 1:\n",
    "\n",
    "        middle = (left + right) // 2\n",
    "\n",
    "        if array[middle] < val:\n",
    "            left = middle\n",
    "        else:\n",
    "            right = middle\n",
    "\n",
    "    return left"
   ]
  },
  {
   "cell_type": "markdown",
   "metadata": {},
   "source": [
    "## Search test"
   ]
  },
  {
   "cell_type": "markdown",
   "metadata": {},
   "source": [
    "### Unit test"
   ]
  },
  {
   "cell_type": "code",
   "execution_count": 108,
   "metadata": {},
   "outputs": [],
   "source": [
    "import itertools\n",
    "\n",
    "\n",
    "N = 100\n",
    "\n",
    "\n",
    "def serch_test_of(func):    \n",
    "    for length in range(N):\n",
    "        array = list(range(length))\n",
    "        for i in range(length+1):\n",
    "            if i == 0:\n",
    "                value = array[0] - 0.5 if array else 0.5\n",
    "            else:\n",
    "                value = array[i-1] + 0.5\n",
    "\n",
    "            new_array = array.copy()\n",
    "            new_array.insert(i, value)\n",
    "            assert func(value, new_array) == i"
   ]
  },
  {
   "cell_type": "code",
   "execution_count": 109,
   "metadata": {},
   "outputs": [],
   "source": [
    "serch_test_of(liner_search)\n",
    "serch_test_of(binary_search)\n",
    "serch_test_of(lambda x, array: array.index(x))"
   ]
  },
  {
   "cell_type": "markdown",
   "metadata": {},
   "source": [
    "### Time test"
   ]
  },
  {
   "cell_type": "code",
   "execution_count": 94,
   "metadata": {},
   "outputs": [],
   "source": [
    "import time\n",
    "import random\n",
    "import functools\n",
    "\n",
    "\n",
    "N = 100_000_000\n",
    "array = list(range(N))\n",
    "value = random.choice(array)\n",
    "\n",
    "\n",
    "def timer_search_of(func):\n",
    "    @functools.wraps(func)\n",
    "    def wrapper(*args, **kwargs):\n",
    "        start = time.time()\n",
    "        func(*args, **kwargs)\n",
    "        end = time.time()\n",
    "        print(f\"{func.__name__}: {end-start:.2f}s\")\n",
    "    return wrapper"
   ]
  },
  {
   "cell_type": "code",
   "execution_count": 95,
   "metadata": {},
   "outputs": [
    {
     "name": "stdout",
     "output_type": "stream",
     "text": [
      "liner_search: 1.27s\n",
      "binary_search: 0.00s\n",
      "<lambda>: 0.21s\n"
     ]
    }
   ],
   "source": [
    "timer_search_of(liner_search)(value, array)\n",
    "timer_search_of(binary_search)(value, array)\n",
    "timer_search_of(lambda x, array: array.index(x))(value, array)"
   ]
  },
  {
   "cell_type": "markdown",
   "metadata": {},
   "source": [
    "### Stable test, search first value"
   ]
  },
  {
   "cell_type": "code",
   "execution_count": 47,
   "metadata": {},
   "outputs": [],
   "source": [
    "# todo"
   ]
  },
  {
   "cell_type": "markdown",
   "metadata": {},
   "source": [
    "# Simple (teaching) algorithms"
   ]
  },
  {
   "cell_type": "markdown",
   "metadata": {},
   "source": [
    "## Single Pass Algorithms and Inductive functions"
   ]
  },
  {
   "cell_type": "markdown",
   "metadata": {},
   "source": [
    "### Sum"
   ]
  },
  {
   "cell_type": "code",
   "execution_count": 110,
   "metadata": {},
   "outputs": [],
   "source": [
    "def summ(iterator):\n",
    "    result = 0\n",
    "\n",
    "    for x in iterator:\n",
    "        result += x\n",
    "\n",
    "    return result"
   ]
  },
  {
   "cell_type": "markdown",
   "metadata": {},
   "source": [
    "### Prod"
   ]
  },
  {
   "cell_type": "code",
   "execution_count": 124,
   "metadata": {},
   "outputs": [],
   "source": [
    "def prod(iterator):\n",
    "    prod = 1\n",
    "\n",
    "    for x in iterator:\n",
    "        prod *= x\n",
    "\n",
    "    return prod"
   ]
  },
  {
   "cell_type": "markdown",
   "metadata": {},
   "source": [
    "### Power"
   ]
  },
  {
   "cell_type": "code",
   "execution_count": null,
   "metadata": {},
   "outputs": [],
   "source": [
    "def power(x, p):\n",
    "    assert p >= 0, \"only p >= 0\"\n",
    "\n",
    "    result = 1\n",
    "\n",
    "    for _ in range(p):\n",
    "        result *= x\n",
    "\n",
    "    return result"
   ]
  },
  {
   "cell_type": "markdown",
   "metadata": {},
   "source": [
    "### Factorial"
   ]
  },
  {
   "cell_type": "code",
   "execution_count": null,
   "metadata": {},
   "outputs": [],
   "source": [
    "def factorial(x):\n",
    "    assert x >= 0, \"only x >= 0\"\n",
    "\n",
    "    result = 1\n",
    "\n",
    "    for i in range(1, x+1):\n",
    "        result *= i\n",
    "\n",
    "    return result"
   ]
  },
  {
   "cell_type": "markdown",
   "metadata": {},
   "source": [
    "### Equal"
   ]
  },
  {
   "cell_type": "code",
   "execution_count": 125,
   "metadata": {},
   "outputs": [],
   "source": [
    "def equal(arr1, arr2):\n",
    "    if len(arr1) != len(arr2):\n",
    "        return False\n",
    "\n",
    "    for x, y in zip(arr1, arr2):\n",
    "        if x != y:\n",
    "            return False\n",
    "\n",
    "    return True"
   ]
  },
  {
   "cell_type": "markdown",
   "metadata": {},
   "source": [
    "### Copy"
   ]
  },
  {
   "cell_type": "code",
   "execution_count": 13,
   "metadata": {},
   "outputs": [],
   "source": [
    "def copy(arr):\n",
    "    new_arr = []\n",
    "\n",
    "    for x in arr:\n",
    "        new_arr.append(x)\n",
    "        \n",
    "    return new_arr"
   ]
  },
  {
   "cell_type": "markdown",
   "metadata": {},
   "source": [
    "### Invert array"
   ]
  },
  {
   "cell_type": "code",
   "execution_count": 24,
   "metadata": {},
   "outputs": [],
   "source": [
    "def invert_array(arr):\n",
    "    N = len(arr)\n",
    "\n",
    "    for i in range(N//2):\n",
    "        arr[i], arr[N-i-1] = arr[N-i-1], arr[i]"
   ]
  },
  {
   "cell_type": "markdown",
   "metadata": {},
   "source": [
    "### Circular shift"
   ]
  },
  {
   "cell_type": "code",
   "execution_count": 38,
   "metadata": {},
   "outputs": [],
   "source": [
    "def circular_shift_to_left(arr):\n",
    "    N = len(arr)\n",
    "\n",
    "    if N == 0:\n",
    "        return arr\n",
    "    \n",
    "    first_element = arr[0]\n",
    "\n",
    "    for i in range(1, N):\n",
    "        arr[i-1] = arr[i]\n",
    "        \n",
    "    arr[-1] = first_element"
   ]
  },
  {
   "cell_type": "code",
   "execution_count": 42,
   "metadata": {},
   "outputs": [],
   "source": [
    "def circular_shift_to_right(arr):\n",
    "    N = len(arr)\n",
    "\n",
    "    if N == 0:\n",
    "        return arr\n",
    "    \n",
    "    last_element = arr[-1]\n",
    "\n",
    "    for i in range(N-1, 0, -1):\n",
    "        arr[i] = arr[i-1]\n",
    "        \n",
    "    arr[0] = last_element"
   ]
  },
  {
   "cell_type": "markdown",
   "metadata": {},
   "source": [
    "## Test"
   ]
  },
  {
   "cell_type": "code",
   "execution_count": 131,
   "metadata": {},
   "outputs": [],
   "source": [
    "import functools\n",
    "\n",
    "\n",
    "N = 100\n",
    "\n",
    "\n",
    "def sum_test_of(func):\n",
    "    for length in range(N):\n",
    "        array = list(range(length))\n",
    "        assert func(array) == sum(array)\n",
    "\n",
    "\n",
    "def prod_test_of(func):\n",
    "    for length in range(N):\n",
    "        array = list(range(length))\n",
    "        assert func(array) == functools.reduce(lambda x, y: x*y, array, 1)\n",
    "\n",
    "\n",
    "def equal_test_of(func):\n",
    "    assert func([], []) == True\n",
    "\n",
    "    for length in range(1, N):\n",
    "        array = list(range(length))\n",
    "        assert func(array, array) == True\n",
    "\n",
    "        over_head_array = list(range(length+1))\n",
    "        assert func(array, over_head_array) == False\n",
    "\n",
    "        \n",
    "        assert func(array, list(range(1, length+1))) == False"
   ]
  },
  {
   "cell_type": "code",
   "execution_count": 132,
   "metadata": {},
   "outputs": [],
   "source": [
    "sum_test_of(summ)\n",
    "prod_test_of(prod)\n",
    "equal_test_of(equal)"
   ]
  },
  {
   "cell_type": "code",
   "execution_count": null,
   "metadata": {},
   "outputs": [],
   "source": []
  },
  {
   "cell_type": "code",
   "execution_count": null,
   "metadata": {},
   "outputs": [],
   "source": []
  },
  {
   "cell_type": "code",
   "execution_count": null,
   "metadata": {},
   "outputs": [],
   "source": []
  },
  {
   "cell_type": "code",
   "execution_count": null,
   "metadata": {},
   "outputs": [],
   "source": [
    "def test_fibonachi():\n",
    "    functions_fibonachi = (\n",
    "        algs.fibonachi_recursive,\n",
    "        algs.fibonachi_dinamic,\n",
    "    )\n",
    "\n",
    "    for function in functions_fibonachi:\n",
    "        assert function(1) == 1\n",
    "        assert function(2) == 1\n",
    "        assert function(3) == 2\n",
    "        assert function(4) == 3\n",
    "        assert function(5) == 5\n",
    "        assert function(6) == 8\n",
    "        assert function(7) == 13\n",
    "        assert function(8) == 21\n",
    "\n",
    "\n",
    "def test_factorial():\n",
    "    assert algs.factorial(0) == 1\n",
    "    assert algs.factorial(1) == 1\n",
    "    assert algs.factorial(2) == 2\n",
    "    assert algs.factorial(3) == 6\n",
    "    assert algs.factorial(4) == 24\n",
    "    assert algs.factorial(5) == 120\n",
    "\n",
    "\n",
    "def test_pow():\n",
    "    for function in algs.pow_, algs.fast_pow:\n",
    "        assert function(2, 3) == 8\n",
    "        assert function(1, 0) == 1\n",
    "        assert function(5, 0) == 1\n",
    "        assert function(0, 10) == 0\n",
    "        assert function(10, 10) == 10_000_000_000\n",
    "        assert function(1, 1) == 1\n",
    "        assert function(1, 10) == 1\n"
   ]
  },
  {
   "cell_type": "markdown",
   "metadata": {},
   "source": [
    "## Recursion"
   ]
  },
  {
   "cell_type": "markdown",
   "metadata": {},
   "source": [
    "### Fibonacci number (not optimal)"
   ]
  },
  {
   "cell_type": "code",
   "execution_count": 14,
   "metadata": {},
   "outputs": [],
   "source": [
    "def fibonachi_recursive(n):\n",
    "    if n == 1 or n == 2:\n",
    "        return 1\n",
    "    else:\n",
    "        return fibonachi_recursive(n-1)+fibonachi_recursive(n-2)"
   ]
  },
  {
   "cell_type": "markdown",
   "metadata": {},
   "source": [
    "### factorial"
   ]
  },
  {
   "cell_type": "code",
   "execution_count": 15,
   "metadata": {},
   "outputs": [],
   "source": [
    "def factorial(n):\n",
    "    return 1 if n == 0 else factorial(n-1)*n"
   ]
  },
  {
   "cell_type": "markdown",
   "metadata": {},
   "source": [
    "### pow"
   ]
  },
  {
   "cell_type": "code",
   "execution_count": 16,
   "metadata": {},
   "outputs": [],
   "source": [
    "def pow_(x, n):\n",
    "    return 1 if n == 0 else pow_(x, n-1)*x"
   ]
  },
  {
   "cell_type": "markdown",
   "metadata": {},
   "source": [
    "### fast pow"
   ]
  },
  {
   "cell_type": "code",
   "execution_count": 17,
   "metadata": {},
   "outputs": [],
   "source": [
    "def fast_pow(x, n):\n",
    "    if n == 0:\n",
    "        return 1\n",
    "    elif n % 2 == 1:\n",
    "        return fast_pow(x, n-1)*x\n",
    "    elif n % 2 == 0:\n",
    "        return fast_pow(x*x, n//2)"
   ]
  },
  {
   "cell_type": "markdown",
   "metadata": {},
   "source": [
    "### Euclidean algorithm"
   ]
  },
  {
   "cell_type": "code",
   "execution_count": 2,
   "metadata": {},
   "outputs": [],
   "source": [
    "def gcd(a, b):\n",
    "    return a if b == 0 else gcd(b, a%b)"
   ]
  },
  {
   "cell_type": "markdown",
   "metadata": {},
   "source": [
    "### Tower of Hanoi"
   ]
  },
  {
   "cell_type": "code",
   "execution_count": 60,
   "metadata": {},
   "outputs": [],
   "source": [
    "def move_tower(array, from_, to_, count):\n",
    "    tmp_index = 3 - from_ - to_\n",
    "\n",
    "    if count == 0:\n",
    "        return None\n",
    "\n",
    "    move_tower(array, from_, tmp_index, count-1)\n",
    "    element = array[from_].pop()\n",
    "    array[to_].append(element)\n",
    "    move_tower(array, tmp_index, to_, count-1)"
   ]
  },
  {
   "cell_type": "markdown",
   "metadata": {},
   "source": [
    "### Geration numbers"
   ]
  },
  {
   "cell_type": "code",
   "execution_count": 23,
   "metadata": {},
   "outputs": [],
   "source": [
    "def generate_numbers(count, base, prefix=None, result=None):\n",
    "    result = [] if result is None else result\n",
    "    prefix = prefix or \"\"\n",
    "\n",
    "    if count == 0:\n",
    "        result.append(prefix)\n",
    "        return result\n",
    "\n",
    "    for i in range(base):\n",
    "        prefix += str(i)\n",
    "        generate_numbers(count-1, base, prefix=prefix, result=result)\n",
    "        prefix = prefix[:-1]\n",
    "        \n",
    "    return result"
   ]
  },
  {
   "cell_type": "markdown",
   "metadata": {},
   "source": [
    "### Permutations"
   ]
  },
  {
   "cell_type": "code",
   "execution_count": 30,
   "metadata": {},
   "outputs": [],
   "source": [
    "def generate_permutations(numbers, M=None, prefix=None, result=None):\n",
    "    M = len(numbers) if M is None else M\n",
    "    result = [] if result is None else result\n",
    "    prefix = prefix or \"\"\n",
    "    \n",
    "    if M == 0:\n",
    "        result.append(prefix)\n",
    "        return result\n",
    "\n",
    "    for number in numbers:\n",
    "        if str(number) not in prefix:\n",
    "            prefix += str(number)\n",
    "            generate_permutations(numbers, M-1, prefix=prefix, result=result)\n",
    "            prefix = prefix[:-1]\n",
    "            \n",
    "    return result"
   ]
  },
  {
   "cell_type": "markdown",
   "metadata": {},
   "source": [
    "## Brute force"
   ]
  },
  {
   "cell_type": "markdown",
   "metadata": {},
   "source": [
    "### checking prime number"
   ]
  },
  {
   "cell_type": "code",
   "execution_count": 1,
   "metadata": {},
   "outputs": [],
   "source": [
    "def is_prime_number(n):\n",
    "    for i in range(2, int(n**0.5)+1):\n",
    "        if n % i == 0:\n",
    "            return False\n",
    "\n",
    "    return True"
   ]
  },
  {
   "cell_type": "markdown",
   "metadata": {},
   "source": [
    "### factorizing number"
   ]
  },
  {
   "cell_type": "code",
   "execution_count": 9,
   "metadata": {},
   "outputs": [],
   "source": [
    "def factorize_number(n):\n",
    "    result = []\n",
    "    divisor = 2\n",
    "\n",
    "    while n != 1:\n",
    "        if n % divisor == 0:\n",
    "            n //= divisor\n",
    "            result.append(divisor)\n",
    "        else:\n",
    "            divisor += 1\n",
    "            \n",
    "    return result"
   ]
  },
  {
   "cell_type": "markdown",
   "metadata": {},
   "source": [
    "### checking sorted array"
   ]
  },
  {
   "cell_type": "code",
   "execution_count": null,
   "metadata": {},
   "outputs": [],
   "source": [
    "def is_sorted(array):\n",
    "    for i in range(len(array)-1):\n",
    "        if array[i] > array[i+1]:\n",
    "            return False\n",
    "\n",
    "    return True"
   ]
  },
  {
   "cell_type": "markdown",
   "metadata": {},
   "source": [
    "## Dynamic programming"
   ]
  },
  {
   "cell_type": "markdown",
   "metadata": {},
   "source": [
    "### Fibonacci number"
   ]
  },
  {
   "cell_type": "code",
   "execution_count": 18,
   "metadata": {},
   "outputs": [],
   "source": [
    "def fibonachi_dinamic(n):\n",
    "    fib = [1, 1]\n",
    "    for i in range(2, n):\n",
    "        fib.append(fib[-1]+fib[-2])\n",
    "    return fib[-1]"
   ]
  },
  {
   "cell_type": "markdown",
   "metadata": {},
   "source": [
    "### 1D Dynamic programming"
   ]
  },
  {
   "cell_type": "code",
   "execution_count": 51,
   "metadata": {},
   "outputs": [],
   "source": [
    "def get_number_of_trajectories_for_grasshopper(N):\n",
    "    k = [0, 1] + [0] * (N - 1)\n",
    "\n",
    "    for i in range(2, N+1):\n",
    "        k[i] = k[i-1] + k[i-2]\n",
    "        \n",
    "    return k[-1]"
   ]
  },
  {
   "cell_type": "markdown",
   "metadata": {},
   "source": [
    "### 2D Dynamic programming"
   ]
  },
  {
   "cell_type": "code",
   "execution_count": 61,
   "metadata": {},
   "outputs": [],
   "source": [
    "def get_number_of_trajectories_for_chess_king(N, M):\n",
    "    k = [[0]*(M+1) for i in range(N+1)]\n",
    "\n",
    "    for i in range(1, N+1):\n",
    "        k[i][1] = 1\n",
    "        \n",
    "    for i in range(1, M+1):\n",
    "        k[1][i] = 1\n",
    "\n",
    "    for i in range(2, N+1):\n",
    "        for j in range(2, M+1):\n",
    "            k[i][j] = k[i-1][j] + k[i][j-1]\n",
    "        \n",
    "    return k[-1][-1]"
   ]
  },
  {
   "cell_type": "markdown",
   "metadata": {},
   "source": [
    "### Longest common subsequence problem"
   ]
  },
  {
   "cell_type": "code",
   "execution_count": 111,
   "metadata": {},
   "outputs": [],
   "source": [
    "def longest_common_subsequence(a, b):\n",
    "    N = len(a)\n",
    "    M = len(b)\n",
    "    F = [[0]*(M+1) for i in range(N+1)]\n",
    "    \n",
    "    for i in range(1, N+1):\n",
    "        for j in range(1, M+1):\n",
    "            if a[i-1] == b[j-1]:\n",
    "                F[i][j] = 1 + F[i-1][j-1]\n",
    "            else:\n",
    "                F[i][j] = max(F[i-1][j], F[i][j-1])\n",
    "\n",
    "    return F[-1][-1]"
   ]
  },
  {
   "cell_type": "markdown",
   "metadata": {},
   "source": [
    "### Longest increasing subsequence"
   ]
  },
  {
   "cell_type": "code",
   "execution_count": 129,
   "metadata": {},
   "outputs": [],
   "source": [
    "def longest_increasing_subsequence(array):\n",
    "    N = len(array)\n",
    "    F = [0]*(N+1)\n",
    "\n",
    "    for i in range(1, N+1):\n",
    "        m = 0\n",
    "        for j in range(i):\n",
    "            if array[i-1] > array[j-1] and F[j] > m:\n",
    "                m = F[j]\n",
    "        F[i] = m + 1\n",
    "\n",
    "    return max(F)"
   ]
  },
  {
   "cell_type": "markdown",
   "metadata": {},
   "source": [
    "### Knapsack problem"
   ]
  },
  {
   "cell_type": "code",
   "execution_count": 136,
   "metadata": {},
   "outputs": [],
   "source": [
    "def knapsack(masses, costs, max_size):\n",
    "    a = [[0]*(max_size+1) for i in range(len(masses)+1)]\n",
    "    \n",
    "    for i in range(len(masses)+1):\n",
    "        for w in range(max_size+1):\n",
    "            if w > masses[i-1]:\n",
    "                a[i][w] = max(costs[i-1] + a[i-1][w-masses[i-1]], a[i-1][w])\n",
    "            else:\n",
    "                a[i][w] = a[i-1][w]\n",
    "                \n",
    "    return a[-1][-1]"
   ]
  },
  {
   "cell_type": "markdown",
   "metadata": {},
   "source": [
    "# Strings"
   ]
  },
  {
   "cell_type": "markdown",
   "metadata": {},
   "source": [
    "### Levenshtein distance"
   ]
  },
  {
   "cell_type": "code",
   "execution_count": 155,
   "metadata": {},
   "outputs": [],
   "source": [
    "def levenshtein_distance(string1, string2):\n",
    "    N = len(string1)\n",
    "    M = len(string2)\n",
    "    F = [[0]*(M+1) for i in range(N+1)]\n",
    "    \n",
    "    for i in range(1, N+1):\n",
    "        F[i][0] = i\n",
    "        \n",
    "    for j in range(1, M+1):\n",
    "        F[0][j] = j\n",
    "    \n",
    "    for i in range(1, N+1):\n",
    "        for j in range(1, M+1):\n",
    "            if string1[i-1] == string2[j-1]:\n",
    "                F[i][j] = F[i-1][j-1]\n",
    "            else:\n",
    "                F[i][j] = 1 + min(F[i-1][j-1], F[i][j-1], F[i-1][j])\n",
    "    \n",
    "    return F[-1][-1]"
   ]
  },
  {
   "cell_type": "markdown",
   "metadata": {},
   "source": [
    "### String-searching algorithm or Knuth–Morris–Pratt algorithm"
   ]
  },
  {
   "cell_type": "code",
   "execution_count": 206,
   "metadata": {},
   "outputs": [],
   "source": [
    "def pi(string):\n",
    "    result = [0] * len(string)\n",
    "\n",
    "    for i in range(1, len(string)):\n",
    "        p = result[i-1]\n",
    "\n",
    "        while string[i] != string[p] and p > 0:\n",
    "            p = result[p]\n",
    "\n",
    "        if string[i] == string[p]:\n",
    "            p += 1\n",
    "\n",
    "        result[i] = p\n",
    "\n",
    "    return result\n",
    "\n",
    "\n",
    "def kmp(string, substring):\n",
    "    s = substring + string\n",
    "\n",
    "    return pi"
   ]
  },
  {
   "cell_type": "code",
   "execution_count": 207,
   "metadata": {},
   "outputs": [
    {
     "data": {
      "text/plain": [
       "[0, 0, 0, 1, 1, 2, 3, 4, 2]"
      ]
     },
     "execution_count": 207,
     "metadata": {},
     "output_type": "execute_result"
    }
   ],
   "source": [
    "pi(\"abbaabbab\")"
   ]
  },
  {
   "cell_type": "markdown",
   "metadata": {},
   "source": [
    "# Tests"
   ]
  },
  {
   "cell_type": "code",
   "execution_count": 20,
   "metadata": {},
   "outputs": [],
   "source": [
    "#!pytest"
   ]
  },
  {
   "cell_type": "markdown",
   "metadata": {},
   "source": [
    "## Sieve of Eratosthenes"
   ]
  },
  {
   "cell_type": "code",
   "execution_count": 58,
   "metadata": {},
   "outputs": [],
   "source": [
    "def find_prime_number_up_to(n):\n",
    "    n += 1\n",
    "    sieve = [True]*n\n",
    "    sieve[0] = sieve[1] = False\n",
    "\n",
    "    for i in range(2, int(n**0.5)+1):\n",
    "        if sieve[i]:\n",
    "            for j in range(2*i, n, i):\n",
    "                sieve[j] = False\n",
    "                \n",
    "    return [i for i in range(n) if sieve[i]]"
   ]
  }
 ],
 "metadata": {
  "kernelspec": {
   "display_name": "Python 3 (ipykernel)",
   "language": "python",
   "name": "python3"
  },
  "language_info": {
   "codemirror_mode": {
    "name": "ipython",
    "version": 3
   },
   "file_extension": ".py",
   "mimetype": "text/x-python",
   "name": "python",
   "nbconvert_exporter": "python",
   "pygments_lexer": "ipython3",
   "version": "3.9.6"
  }
 },
 "nbformat": 4,
 "nbformat_minor": 2
}
